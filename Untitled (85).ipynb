{
 "cells": [
  {
   "cell_type": "markdown",
   "id": "216f1147-6c2a-47d9-99b4-715736ce452b",
   "metadata": {},
   "source": [
    "Q.1. Create two int type variables, apply addition, subtraction, division and multiplications\n",
    "and store the results in variables. Then print the data in the following format by calling the\n",
    "variables:\n",
    "First variable is __ & second variable is __.\n",
    "Addition: __ + __ = __\n",
    "Subtraction: __ - __ = __\n",
    "Multiplication: __ * __ = __\n",
    "Division: __ / __ = __\n"
   ]
  },
  {
   "cell_type": "code",
   "execution_count": 2,
   "id": "aaea3ebe-e214-4101-a482-b696cbb581ba",
   "metadata": {},
   "outputs": [
    {
     "name": "stdout",
     "output_type": "stream",
     "text": [
      "First variable is 10 & second variable is 5\n",
      "Addition: 10 + 5 = 15\n",
      "Subtraction: 10 - 5 = 5\n",
      "Multiplication: 10 * 5 = 50\n",
      "Division: 10 / 5 = 2.0\n"
     ]
    }
   ],
   "source": [
    "\n",
    "first_variable = 10\n",
    "second_variable = 5\n",
    "\n",
    "\n",
    "addition_result = first_variable + second_variable\n",
    "subtraction_result = first_variable - second_variable\n",
    "multiplication_result = first_variable * second_variable\n",
    "division_result = first_variable / second_variable\n",
    "\n",
    "t\n",
    "print(\"First variable is\", first_variable, \"& second variable is\", second_variable)\n",
    "print(\"Addition:\", first_variable, \"+\", second_variable, \"=\", addition_result)\n",
    "print(\"Subtraction:\", first_variable, \"-\", second_variable, \"=\", subtraction_result)\n",
    "print(\"Multiplication:\", first_variable, \"*\", second_variable, \"=\", multiplication_result)\n",
    "print(\"Division:\", first_variable, \"/\", second_variable, \"=\", division_result)\n"
   ]
  },
  {
   "cell_type": "markdown",
   "id": "f1bbdcd7-2536-4b93-a35d-aad9711c1794",
   "metadata": {},
   "source": [
    "Q.2. What is the difference between the following operators:\n",
    "(i) ‘/’ & ‘//’\n",
    "(ii) ‘**’ & ‘^’"
   ]
  },
  {
   "cell_type": "code",
   "execution_count": 4,
   "id": "08a2646c-fc66-4930-b805-758180c72e66",
   "metadata": {},
   "outputs": [],
   "source": [
    "# (i) Difference between '/' and '//':\n",
    "\n",
    "# /: This is the division operator in Python. It performs floating-point division, which means it always returns a floating-point result even if the division of two integers is exact.\n",
    "\n",
    "# Example:"
   ]
  },
  {
   "cell_type": "code",
   "execution_count": 5,
   "id": "747bfaf7-acdf-49ea-8f30-8b4094b749a4",
   "metadata": {},
   "outputs": [
    {
     "name": "stdout",
     "output_type": "stream",
     "text": [
      "2.5\n"
     ]
    }
   ],
   "source": [
    "result = 5 / 2\n",
    "print(result)  \n"
   ]
  },
  {
   "cell_type": "code",
   "execution_count": 6,
   "id": "aa97647e-a044-4c65-a4c2-90a6731fb238",
   "metadata": {},
   "outputs": [],
   "source": [
    "# //: This is the floor division operator. It performs division and rounds down to the nearest integer. The result is always an integer.\n",
    "\n",
    "# Example:"
   ]
  },
  {
   "cell_type": "code",
   "execution_count": 7,
   "id": "7eca165e-7c46-4fff-a512-d3e16a64461d",
   "metadata": {},
   "outputs": [
    {
     "name": "stdout",
     "output_type": "stream",
     "text": [
      "2\n"
     ]
    }
   ],
   "source": [
    "result = 5 // 2\n",
    "print(result) \n"
   ]
  },
  {
   "cell_type": "code",
   "execution_count": 8,
   "id": "78a9c2a0-235f-4125-80f9-6f7f7e64bc94",
   "metadata": {},
   "outputs": [],
   "source": [
    "# (ii) Difference between '**' and '^':\n",
    "\n",
    "# **: This is the exponentiation operator in Python. It raises the left operand to the power of the right operand.\n",
    "\n",
    "# Example:"
   ]
  },
  {
   "cell_type": "code",
   "execution_count": 11,
   "id": "d9dcab03-7dd6-4fe9-abf5-878f9077ebd5",
   "metadata": {},
   "outputs": [
    {
     "name": "stdout",
     "output_type": "stream",
     "text": [
      "8\n"
     ]
    }
   ],
   "source": [
    " result = 2 ** 3\n",
    "print(result)\n"
   ]
  },
  {
   "cell_type": "code",
   "execution_count": 12,
   "id": "f22f5656-429b-487c-a2ad-aa70043ffbc6",
   "metadata": {},
   "outputs": [],
   "source": [
    "# ^: This is the bitwise XOR (exclusive OR) operator. It performs a bitwise XOR operation between the binary representations of two numbers.\n",
    "\n",
    "# Example:"
   ]
  },
  {
   "cell_type": "code",
   "execution_count": 13,
   "id": "83d251f6-6ec8-43bb-9b90-63a7a5e85619",
   "metadata": {},
   "outputs": [
    {
     "name": "stdout",
     "output_type": "stream",
     "text": [
      "6\n"
     ]
    }
   ],
   "source": [
    "result = 5 ^ 3\n",
    "print(result)  \n"
   ]
  },
  {
   "cell_type": "code",
   "execution_count": 14,
   "id": "dc6240cb-f020-468f-bdf5-3a511569ac0b",
   "metadata": {},
   "outputs": [],
   "source": [
    "# In binary, 5 is 101 and 3 is 011. The XOR of these is 110, which is 6 in decimal.\n",
    "\n",
    "# In summary, '/' and '//' are both division operators, but '/' returns a floating-point result, while '//' returns an integer result. '**' is the exponentiation operator, whereas '^' is the bitwise XOR operator."
   ]
  },
  {
   "cell_type": "markdown",
   "id": "748c2a0c-57aa-438c-9cb4-4c1ee5e1212d",
   "metadata": {},
   "source": [
    "Q.3. List the logical operators."
   ]
  },
  {
   "cell_type": "code",
   "execution_count": 15,
   "id": "9e3ce49e-c321-42c8-aec6-108a4a0cf65a",
   "metadata": {},
   "outputs": [],
   "source": [
    "# In Python, the logical operators are:\n",
    "\n",
    "# 1. and: Returns True if both conditions on its left and right are true.\n",
    "\n",
    "# Example:"
   ]
  },
  {
   "cell_type": "code",
   "execution_count": 16,
   "id": "4794b8dc-569e-46ab-a7d4-3e351c756b40",
   "metadata": {},
   "outputs": [
    {
     "name": "stdout",
     "output_type": "stream",
     "text": [
      "True\n"
     ]
    }
   ],
   "source": [
    "result = (5 > 3) and (2 < 4)\n",
    "print(result) \n"
   ]
  },
  {
   "cell_type": "code",
   "execution_count": 17,
   "id": "c98b4a7a-c2b7-4414-b842-48b25d86b0e0",
   "metadata": {},
   "outputs": [],
   "source": [
    "# 2. or: Returns True if at least one of the conditions on its left or right is true.\n",
    "\n",
    "# Example:"
   ]
  },
  {
   "cell_type": "code",
   "execution_count": 18,
   "id": "52f9a485-9363-42b9-9b38-ed44b180cc5d",
   "metadata": {},
   "outputs": [
    {
     "name": "stdout",
     "output_type": "stream",
     "text": [
      "True\n"
     ]
    }
   ],
   "source": [
    "result = (5 > 3) or (2 > 4)\n",
    "print(result)  \n"
   ]
  },
  {
   "cell_type": "code",
   "execution_count": 19,
   "id": "85ecb796-7978-47ba-8896-0dbc5662c92b",
   "metadata": {},
   "outputs": [],
   "source": [
    "# 3.not: Returns True if the condition following it is false, and vice versa.\n",
    "\n",
    "# Example:"
   ]
  },
  {
   "cell_type": "code",
   "execution_count": 20,
   "id": "815c8e4f-4a53-42f7-b77c-25949b81f174",
   "metadata": {},
   "outputs": [
    {
     "name": "stdout",
     "output_type": "stream",
     "text": [
      "False\n"
     ]
    }
   ],
   "source": [
    "result = not (5 > 3)\n",
    "print(result)  \n"
   ]
  },
  {
   "cell_type": "code",
   "execution_count": 21,
   "id": "d3d35aa9-7f81-492c-b6be-2b8a42222966",
   "metadata": {},
   "outputs": [],
   "source": [
    "# These logical operators are often used to combine or modify the results of comparison operations and control the flow of program execution based on conditions"
   ]
  },
  {
   "cell_type": "markdown",
   "id": "f75984d7-6d08-42d3-ae3c-26dde0671e5c",
   "metadata": {},
   "source": [
    "Q.4. Explain right shift operator and left shift operator with examples."
   ]
  },
  {
   "cell_type": "code",
   "execution_count": 22,
   "id": "e9feb8ca-63be-45f7-a65b-0a76c9c75629",
   "metadata": {},
   "outputs": [],
   "source": [
    "# In Python, the right shift (>>) and left shift (<<) operators are bitwise shift operators that manipulate the binary representation of integers.\n",
    "\n",
    "# 1.Right Shift Operator (>>):\n",
    "\n",
    "# The right shift operator shifts the bits of a binary representation to the right by a specified number of positions.\n",
    "# The vacant positions on the left are filled with the sign bit (0 for positive numbers, 1 for negative numbers)."
   ]
  },
  {
   "cell_type": "code",
   "execution_count": 23,
   "id": "3a767e40-4df7-4e85-a0e5-02f0de6e8011",
   "metadata": {},
   "outputs": [
    {
     "name": "stdout",
     "output_type": "stream",
     "text": [
      "0b10\n"
     ]
    }
   ],
   "source": [
    "x = 8  \n",
    "y = x >> 2  \n",
    "print(bin(y)) \n"
   ]
  },
  {
   "cell_type": "code",
   "execution_count": 24,
   "id": "61610996-c7cd-40b9-954a-5a260216fee2",
   "metadata": {},
   "outputs": [],
   "source": [
    "# 2.Left Shift Operator (<<):\n",
    "\n",
    "# The left shift operator shifts the bits of a binary representation to the left by a specified number of positions.\n",
    "# The vacant positions on the right are filled with zeros.\n",
    "# Example:"
   ]
  },
  {
   "cell_type": "code",
   "execution_count": 25,
   "id": "c649e2fe-901e-4f4b-ab92-7d0cee700c08",
   "metadata": {},
   "outputs": [
    {
     "name": "stdout",
     "output_type": "stream",
     "text": [
      "0b1100\n"
     ]
    }
   ],
   "source": [
    "x = 3 \n",
    "y = x << 2  \n",
    "print(bin(y))  \n"
   ]
  },
  {
   "cell_type": "code",
   "execution_count": 26,
   "id": "a2bbe1a1-b421-4438-a5ed-1370d757e894",
   "metadata": {},
   "outputs": [],
   "source": [
    "# In the examples above, x >> 2 means right shifting the binary representation of x by 2 positions, and x << 2 means left shifting the binary representation of x by 2 positions.\n",
    "\n",
    "# Bitwise shift operators are often used in low-level programming or in situations where the binary representation of numbers is important, such as when working with hardware or optimizing certain algorithms. Keep in mind that the behavior of these operators may vary depending on the system's architecture and the integer representation used."
   ]
  },
  {
   "cell_type": "markdown",
   "id": "a8bf4237-3364-4325-95fa-343dc0abaf9a",
   "metadata": {},
   "source": [
    "Q.5. Create a list containing int type data of length 15. Then write a code to check if 10 is\n",
    "present in the list or not."
   ]
  },
  {
   "cell_type": "code",
   "execution_count": 27,
   "id": "df31391c-3688-4b38-b416-73f69d376de3",
   "metadata": {},
   "outputs": [],
   "source": [
    "# Certainly! Here's an example code in Python that creates a list of integers and checks if 10 is present in the list:"
   ]
  },
  {
   "cell_type": "code",
   "execution_count": 28,
   "id": "062a8338-b1c8-4a8b-aed8-f697d5d2153a",
   "metadata": {},
   "outputs": [
    {
     "name": "stdout",
     "output_type": "stream",
     "text": [
      "10 is present in the list.\n"
     ]
    }
   ],
   "source": [
    "\n",
    "my_list = [2, 4, 6, 8, 10, 12, 14, 16, 18, 20, 22, 24, 26, 28, 30]\n",
    "\n",
    "\n",
    "if 10 in my_list:\n",
    "    print(\"10 is present in the list.\")\n",
    "else:\n",
    "    print(\"10 is not present in the list.\")\n"
   ]
  },
  {
   "cell_type": "code",
   "execution_count": 29,
   "id": "4c33f213-04a8-4598-9c17-e9cd4c7ad9a6",
   "metadata": {},
   "outputs": [],
   "source": [
    "# Replace the values in my_list with your own set of integers. This code uses the in operator to check if the value 10 is present in the list. If it is, it prints that 10 is present; otherwise, it prints that 10 is not present."
   ]
  },
  {
   "cell_type": "code",
   "execution_count": null,
   "id": "78529ec3-59e8-4ead-aabc-12878dd01aa7",
   "metadata": {},
   "outputs": [],
   "source": []
  }
 ],
 "metadata": {
  "kernelspec": {
   "display_name": "Python 3 (ipykernel)",
   "language": "python",
   "name": "python3"
  },
  "language_info": {
   "codemirror_mode": {
    "name": "ipython",
    "version": 3
   },
   "file_extension": ".py",
   "mimetype": "text/x-python",
   "name": "python",
   "nbconvert_exporter": "python",
   "pygments_lexer": "ipython3",
   "version": "3.10.6"
  }
 },
 "nbformat": 4,
 "nbformat_minor": 5
}
